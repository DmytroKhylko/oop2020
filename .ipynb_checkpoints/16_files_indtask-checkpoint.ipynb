{
 "cells": [
  {
   "cell_type": "markdown",
   "metadata": {},
   "source": [
    "##  ІЗ_7\n",
    "\n",
    "## Парсинг сайту новин\n",
    "    1. Провести парсинг сайту новин за тематикою власних інтересів. \n",
    "    2. Завантажити текст новин до файлу типу *txt. Зразок надається - файл news.txt\n",
    "    3. У процесі захисту звернути увагу на реалізацію власних інноваційних рішень у процесі виконання ІЗ_7\n",
    "    "
   ]
  },
  {
   "cell_type": "code",
   "execution_count": 3,
   "metadata": {},
   "outputs": [],
   "source": [
    "from bs4 import BeautifulSoup\n",
    "import requests\n",
    "\n",
    "news_site = requests.get(\"https://scitechdaily.com/tag/computer-science/\").text\n",
    "\n",
    "soup = BeautifulSoup(news_site, \"html.parser\")\n",
    "\n",
    "news = list()\n",
    "for i in soup.find_all('article',{'class':'content-list'}):\n",
    "    n = dict()\n",
    "    link = i.find('a',{\"rel\": \"bookmark\"}, href=True)\n",
    "    description = i.find('div',{'class':'content-list-excerpt'})\n",
    "    n['name'] = link['title']\n",
    "    n['description'] = description.find('p').contents[0]\n",
    "    n['link'] = link['href']\n",
    "    news.append(n)\n",
    "\n",
    "with open(\"16_files_indtask/news.txt\", \"w\", encoding=\"UTF-8\") as file:\n",
    "    i = 1\n",
    "    for n in news:\n",
    "        file.write(f\"Новина №{i}\\n\\nНазва: {n['name']}\\nОпис: {n['description']}\\nПосилання: {n['link']}\\n\\n********************\\n\")\n",
    "        i += 1"
   ]
  },
  {
   "cell_type": "code",
   "execution_count": null,
   "metadata": {},
   "outputs": [],
   "source": []
  }
 ],
 "metadata": {
  "kernelspec": {
   "display_name": "conda_python3",
   "language": "python",
   "name": "conda_python3"
  },
  "language_info": {
   "codemirror_mode": {
    "name": "ipython",
    "version": 3
   },
   "file_extension": ".py",
   "mimetype": "text/x-python",
   "name": "python",
   "nbconvert_exporter": "python",
   "pygments_lexer": "ipython3",
   "version": "3.6.13"
  }
 },
 "nbformat": 4,
 "nbformat_minor": 4
}
