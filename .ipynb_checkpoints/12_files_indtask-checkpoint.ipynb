{
 "cells": [
  {
   "cell_type": "markdown",
   "metadata": {},
   "source": [
    "## Індивідуальне завдання №1 \n",
    "\n"
   ]
  },
  {
   "cell_type": "markdown",
   "metadata": {},
   "source": [
    "На підприємстві функціонує система електронного документообігу. Система обробляє три **типи** документів: **листи**, **накази**, **розпорядження**. Кожен документ має: **номер**, **дату**, **короткий зміст**. Крім того, в листах вказується тип: **вхідний**/**вихідний** і **кореспондент**. А в наказах: **підрозділ**, **строк виконання**, і **виконавець**. А в розпорядженнях: **працівник**, **період** і **робоче місце**. \n",
    "    \n",
    "    Вивести: 1. Перелік документів в системі електронного документообігу.                                           \n",
    "             2. Зміст обраного документу за його номером. \n"
   ]
  },
  {
   "cell_type": "code",
   "execution_count": 1,
   "metadata": {},
   "outputs": [
    {
     "name": "stdout",
     "output_type": "stream",
     "text": [
      "11234, 25.03.2021, Something to do, in, None\n",
      "11344, 22.03.2021, Something to order, finances, 29.03.2021, Nobody\n",
      "11456, 15.03.2021, Check that, ordinary worker, 2 days, new place\n",
      "11344, 22.03.2021, Something to order, finances, 29.03.2021, Nobody\n"
     ]
    }
   ],
   "source": [
    "class Letter:\n",
    "    def __init__(self, num, data, short_desript, t, correspondent):\n",
    "        self.num = num\n",
    "        self.data = data\n",
    "        self.short_desript = short_desript\n",
    "        self.t = t\n",
    "        self.correspondent = correspondent\n",
    "\n",
    "    def __str__(self):\n",
    "        return \"{}, {}, {}, {}, {}\".format(self.num, self.data, self.short_desript, self.t, self.correspondent)\n",
    "\n",
    "\n",
    "class Order:\n",
    "    def __init__(self, num, data, short_desript, department, deadline, performer):\n",
    "        self.num = num\n",
    "        self.data = data\n",
    "        self.short_desript = short_desript\n",
    "        self.department = department\n",
    "        self.deadline = deadline\n",
    "        self.performer = performer\n",
    "\n",
    "    def __str__(self):\n",
    "        return \"{}, {}, {}, {}, {}, {}\".format(self.num, self.data, self.short_desript, self.department, self.deadline, self.performer)\n",
    "\n",
    "class Prescription:\n",
    "    def __init__(self, num, data, short_desript, worker, period, working_place):\n",
    "        self.num = num\n",
    "        self.data = data\n",
    "        self.short_desript = short_desript\n",
    "        self.worker = worker\n",
    "        self.period = period\n",
    "        self.working_place = working_place\n",
    "\n",
    "    def __str__(self):\n",
    "        return \"{}, {}, {}, {}, {}, {}\".format(self.num, self.data, self.short_desript, self.worker, self.period, self.working_place)\n",
    "\n",
    "class SED:\n",
    "    def __init__(self):\n",
    "        self.docs = dict()\n",
    "\n",
    "    def add_doc(self, doc):\n",
    "        self.docs[doc.num] = doc\n",
    "\n",
    "    def __str__(self):\n",
    "        for _, v in self.docs.items():\n",
    "            print(v)\n",
    "        return self.docs\n",
    "    \n",
    "    def get_by_num(self, num):\n",
    "        if num in self.docs.keys():\n",
    "            return self.docs[num]\n",
    "        return None\n",
    "        \n",
    "\n",
    "mainSED = SED()\n",
    "\n",
    "\n",
    "letter1 = Letter(11234, \"25.03.2021\", \"Something to do\", \"in\", \"None\")\n",
    "order1 = Order(11344, \"22.03.2021\", \"Something to order\", \"finances\", \"29.03.2021\", \"Nobody\")\n",
    "prescription1 = Prescription(11456, \"15.03.2021\", \"Check that\", \"ordinary worker\", \"2 days\", \"new place\")\n",
    "\n",
    "\n",
    "mainSED.add_doc(letter1)\n",
    "mainSED.add_doc(order1)\n",
    "mainSED.add_doc(prescription1)\n",
    "mainSED.__str__()\n",
    "\n",
    "print(mainSED.get_by_num(11344))"
   ]
  },
  {
   "cell_type": "markdown",
   "metadata": {},
   "source": [
    "## Індивідуальне завдання №2"
   ]
  },
  {
   "cell_type": "markdown",
   "metadata": {},
   "source": [
    "В інформаційній системі Інтернет-магазину зберігається інформація про номенклатуру товарів **трьох** типів: **материнські плати**, **процесори**, **відеокарти**. Кожен товар має: **номенклатурний номер**, **найменування** і **вартість**.  Крім того, для материнських плат вказується: **тип сокета**, **кількість процесорів**, **тип оперативної пам’яті**, **частота системної шини**; для процесорів – **тип сокета**, **кількість ядер**, **тактова частота**, **техпроцес**; для відеокарт – **тактова частота відеочипу**, **швидкість заповнення (филлрейт)**, **кількість блоків текстурірування**.\n",
    "    \n",
    "    Вивести: 1. Повний перелік комплектуючих інформаційної системи Інтернет-магазину. \n",
    "             2. Детальну інформацію по товару за його номенклатурним номером. \n"
   ]
  },
  {
   "cell_type": "code",
   "execution_count": 2,
   "metadata": {},
   "outputs": [
    {
     "name": "stdout",
     "output_type": "stream",
     "text": [
      "1234 ASUS PRIME Z590-A 336 LGA1200 1 DDR4 2400 MHz\n",
      "12323 AMD Ryzen Threadripper 3990X 1500 TRX4 64 2.9GHz 7 nm\n",
      "12342 AMD Radeon RX 6900 XT 700 2200 Mhz 288 GP/s 320\n",
      "12323 AMD Ryzen Threadripper 3990X 1500 TRX4 64 2.9GHz 7 nm\n"
     ]
    }
   ],
   "source": [
    "class MotherBoard:\n",
    "    def __init__(self, num, name, price, socket_type, proc_amount, RAM_type, bus_frequency):\n",
    "        self.num = num\n",
    "        self.name = name\n",
    "        self.price = price\n",
    "        self.socket_type = socket_type\n",
    "        self.proc_amount = proc_amount\n",
    "        self.RAM_type = RAM_type\n",
    "        self.bus_frequency = bus_frequency\n",
    "\n",
    "    def __str__(self):\n",
    "        return \"{} {} {} {} {} {} {}\".format(self.num, self.name, self.price, self.socket_type, self.proc_amount, self.RAM_type, self.bus_frequency)\n",
    "\n",
    "\n",
    "class CPU:\n",
    "    def __init__(self, num, name, price, socket_type, core_amount, frequency, semiconductor_size):\n",
    "        self.num = num\n",
    "        self.name = name\n",
    "        self.price = price\n",
    "        self.socket_type = socket_type\n",
    "        self.core_amount = core_amount\n",
    "        self.frequency = frequency\n",
    "        self.semiconductor_size = semiconductor_size\n",
    "\n",
    "    def __str__(self):\n",
    "        return \"{} {} {} {} {} {} {}\".format(self.num, self.name, self.price, self.socket_type, self.core_amount, self.frequency, self.semiconductor_size)\n",
    "\n",
    "class GPU:\n",
    "    def __init__(self, num, name, price, gpu_frequency, fill_rate, texture_units):\n",
    "        self.num = num\n",
    "        self.name = name\n",
    "        self.price = price\n",
    "        self.gpu_frequency = gpu_frequency\n",
    "        self.fill_rate = fill_rate\n",
    "        self.texture_units = texture_units\n",
    "\n",
    "    def __str__(self):\n",
    "        return \"{} {} {} {} {} {}\".format(self.num, self.name, self.price, self.gpu_frequency, self.fill_rate, self.texture_units)\n",
    "\n",
    "\n",
    "class InternetShop:\n",
    "    def __init__(self):\n",
    "        self.goods = dict()\n",
    "\n",
    "    def add_good(self, good):\n",
    "        self.goods[good.num] = good\n",
    "\n",
    "\n",
    "    def __str__(self):\n",
    "        for _, v in self.goods.items():\n",
    "            print(v)\n",
    "        return self.goods\n",
    "    \n",
    "    def get_by_num(self, num):\n",
    "        if num in self.goods.keys():\n",
    "            return self.goods[num]\n",
    "        return None\n",
    "\n",
    "\n",
    "computing = InternetShop()\n",
    "\n",
    "\n",
    "asus_motherboard = MotherBoard(1234, \"ASUS PRIME Z590-A\", 336, \"LGA1200\", 1, \"DDR4\", \"2400 MHz\")\n",
    "amd_threadripper = CPU(12323, \"AMD Ryzen Threadripper 3990X\", 1500, \"TRX4\", 64, \"2.9GHz\", \"7 nm\")\n",
    "radeon_rx6900_xt = GPU(12342, \"AMD Radeon RX 6900 XT\", 700, \"2200 Mhz\", \"288 GP/s\", 320)\n",
    "\n",
    "computing.add_good(asus_motherboard)\n",
    "computing.add_good(amd_threadripper)\n",
    "computing.add_good(radeon_rx6900_xt)\n",
    "\n",
    "computing.__str__()\n",
    "\n",
    "print(computing.get_by_num(12323))\n",
    "        "
   ]
  },
  {
   "cell_type": "code",
   "execution_count": null,
   "metadata": {},
   "outputs": [],
   "source": []
  }
 ],
 "metadata": {
  "kernelspec": {
   "display_name": "conda_python3",
   "language": "python",
   "name": "conda_python3"
  },
  "language_info": {
   "codemirror_mode": {
    "name": "ipython",
    "version": 3
   },
   "file_extension": ".py",
   "mimetype": "text/x-python",
   "name": "python",
   "nbconvert_exporter": "python",
   "pygments_lexer": "ipython3",
   "version": "3.6.10"
  }
 },
 "nbformat": 4,
 "nbformat_minor": 4
}
