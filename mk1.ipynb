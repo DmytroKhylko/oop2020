{
 "cells": [
  {
   "cell_type": "markdown",
   "metadata": {},
   "source": [
    "МК 1. Тиждень 15.03.2021 - захист"
   ]
  },
  {
   "cell_type": "markdown",
   "metadata": {},
   "source": [
    "## Завдання 1"
   ]
  },
  {
   "cell_type": "markdown",
   "metadata": {},
   "source": [
    "Створити власний банківський акаунт **MyAccount**, що повинен мати п'ять методів:  \n",
    "- ініціалізації атрибутів класу **set_account**, \n",
    "- відображення атрибутів класу **my_open_account**, \n",
    "- внесення грошей на власний банківський рахунок **put_account**\n",
    "- зняття грошей з власного банкіського акаунту  **get_account** , \n",
    "- переведення грошей з власного банківського рахунку під визначений депозитний відсоток, діючий станом на момент виконання модульного завдання -  **send_deposit** \n",
    "\n",
    "При ініціалізації атрибутів класу створити три атрибути: ім'я - **first_name**,  призвище - **second_name** власника банківського рахунку та статус банківського рахунку - **status**. Дефолтне значення власного банківського рахунку (**status**) повинно бути нульовим. \n",
    "При наданні публічної інформації про власний банківський рахунок відображати повну інформацію про власника банківського рахунку і статус банківського рахунку. \n",
    "\n",
    "Методи, які забезпечують внесення грошей на банківський рахунок, зняття грошей з банківського рахункуі, повинні мати додатковий параметр - кількість грошей - **amount_of_money** \n",
    "\n",
    "Метод переведення грошей на депозит повинен мати додаткові параметри: кількість грошей - **amount_of_money**, депозитна відсоткова ставка - **deposit_rate**, строк депозиту - **deposit_time**\n",
    "\n",
    "Створити два банківських рахунки для двох клієнтів. \n",
    "- Перевести на банківські рахунки двох клієнтів різні суми грошей. \n",
    "- Представити статус кожного із банківських акаунтів обох клієнтів. \n",
    "- На першому банківському рахунку відкрити депозит на 2,5 роки\n",
    "- На  другому банківському рахунку відкрити депозит на півроку \n",
    "- Представити статус кожного із банківських акаунтів обох клієнтів після закінчення депозитів. \n",
    "\n",
    "Для обчислення вартості депозиту використовувати діючу комерційну відсоткову депозитну ставку і чинні податки з депозитного доходу"
   ]
  },
  {
   "cell_type": "code",
   "execution_count": 2,
   "metadata": {},
   "outputs": [
    {
     "name": "stdout",
     "output_type": "stream",
     "text": [
      "Carl Chaplin 50000\n",
      "Ann Drought 75000\n"
     ]
    },
    {
     "ename": "ValueError",
     "evalue": "Not enough money on account",
     "output_type": "error",
     "traceback": [
      "\u001b[0;31m---------------------------------------------------------------------------\u001b[0m",
      "\u001b[0;31mValueError\u001b[0m                                Traceback (most recent call last)",
      "\u001b[0;32m<ipython-input-2-d01636454c73>\u001b[0m in \u001b[0;36m<module>\u001b[0;34m\u001b[0m\n\u001b[1;32m     37\u001b[0m \u001b[0msecond_user\u001b[0m\u001b[0;34m.\u001b[0m\u001b[0mmy_open_account\u001b[0m\u001b[0;34m(\u001b[0m\u001b[0;34m)\u001b[0m\u001b[0;34m\u001b[0m\u001b[0;34m\u001b[0m\u001b[0m\n\u001b[1;32m     38\u001b[0m \u001b[0;34m\u001b[0m\u001b[0m\n\u001b[0;32m---> 39\u001b[0;31m \u001b[0mfirst_user\u001b[0m\u001b[0;34m.\u001b[0m\u001b[0mput_account\u001b[0m\u001b[0;34m(\u001b[0m\u001b[0mfirst_user\u001b[0m\u001b[0;34m.\u001b[0m\u001b[0msend_deposit\u001b[0m\u001b[0;34m(\u001b[0m\u001b[0;36m60000\u001b[0m\u001b[0;34m,\u001b[0m \u001b[0;36m2.5\u001b[0m\u001b[0;34m,\u001b[0m \u001b[0;36m10\u001b[0m\u001b[0;34m)\u001b[0m\u001b[0;34m)\u001b[0m\u001b[0;34m\u001b[0m\u001b[0;34m\u001b[0m\u001b[0m\n\u001b[0m\u001b[1;32m     40\u001b[0m \u001b[0msecond_user\u001b[0m\u001b[0;34m.\u001b[0m\u001b[0mput_account\u001b[0m\u001b[0;34m(\u001b[0m\u001b[0msecond_user\u001b[0m\u001b[0;34m.\u001b[0m\u001b[0msend_deposit\u001b[0m\u001b[0;34m(\u001b[0m\u001b[0;36m75000\u001b[0m\u001b[0;34m,\u001b[0m \u001b[0;36m0.5\u001b[0m\u001b[0;34m,\u001b[0m \u001b[0;36m9\u001b[0m\u001b[0;34m)\u001b[0m\u001b[0;34m)\u001b[0m\u001b[0;34m\u001b[0m\u001b[0;34m\u001b[0m\u001b[0m\n\u001b[1;32m     41\u001b[0m \u001b[0;34m\u001b[0m\u001b[0m\n",
      "\u001b[0;32m<ipython-input-2-d01636454c73>\u001b[0m in \u001b[0;36msend_deposit\u001b[0;34m(self, amount_of_money, deposit_rate, deposit_time)\u001b[0m\n\u001b[1;32m     21\u001b[0m     \u001b[0;32mdef\u001b[0m \u001b[0msend_deposit\u001b[0m\u001b[0;34m(\u001b[0m\u001b[0mself\u001b[0m\u001b[0;34m,\u001b[0m \u001b[0mamount_of_money\u001b[0m\u001b[0;34m,\u001b[0m \u001b[0mdeposit_rate\u001b[0m\u001b[0;34m,\u001b[0m \u001b[0mdeposit_time\u001b[0m\u001b[0;34m)\u001b[0m\u001b[0;34m:\u001b[0m\u001b[0;34m\u001b[0m\u001b[0;34m\u001b[0m\u001b[0m\n\u001b[1;32m     22\u001b[0m         \u001b[0mdeposit_tax\u001b[0m \u001b[0;34m=\u001b[0m \u001b[0;36m19.5\u001b[0m\u001b[0;34m\u001b[0m\u001b[0;34m\u001b[0m\u001b[0m\n\u001b[0;32m---> 23\u001b[0;31m         \u001b[0mamount_of_money\u001b[0m \u001b[0;34m=\u001b[0m \u001b[0mself\u001b[0m\u001b[0;34m.\u001b[0m\u001b[0mget_account\u001b[0m\u001b[0;34m(\u001b[0m\u001b[0mamount_of_money\u001b[0m\u001b[0;34m)\u001b[0m\u001b[0;34m\u001b[0m\u001b[0;34m\u001b[0m\u001b[0m\n\u001b[0m\u001b[1;32m     24\u001b[0m         \u001b[0;32mreturn\u001b[0m \u001b[0mround\u001b[0m\u001b[0;34m(\u001b[0m\u001b[0mamount_of_money\u001b[0m \u001b[0;34m+\u001b[0m \u001b[0;34m(\u001b[0m\u001b[0mamount_of_money\u001b[0m\u001b[0;34m*\u001b[0m\u001b[0;34m(\u001b[0m\u001b[0;36m1\u001b[0m \u001b[0;34m+\u001b[0m \u001b[0mdeposit_rate\u001b[0m\u001b[0;34m/\u001b[0m\u001b[0;36m100\u001b[0m\u001b[0;34m)\u001b[0m\u001b[0;34m**\u001b[0m\u001b[0mdeposit_time\u001b[0m \u001b[0;34m-\u001b[0m \u001b[0mamount_of_money\u001b[0m\u001b[0;34m)\u001b[0m\u001b[0;34m*\u001b[0m\u001b[0;34m(\u001b[0m\u001b[0;36m1\u001b[0m \u001b[0;34m-\u001b[0m \u001b[0mdeposit_tax\u001b[0m\u001b[0;34m/\u001b[0m\u001b[0;36m100\u001b[0m\u001b[0;34m)\u001b[0m\u001b[0;34m,\u001b[0m\u001b[0;36m2\u001b[0m\u001b[0;34m)\u001b[0m\u001b[0;34m\u001b[0m\u001b[0;34m\u001b[0m\u001b[0m\n\u001b[1;32m     25\u001b[0m \u001b[0;34m\u001b[0m\u001b[0m\n",
      "\u001b[0;32m<ipython-input-2-d01636454c73>\u001b[0m in \u001b[0;36mget_account\u001b[0;34m(self, amount_of_money)\u001b[0m\n\u001b[1;32m     15\u001b[0m             \u001b[0mamount_of_money\u001b[0m \u001b[0;34m=\u001b[0m \u001b[0mself\u001b[0m\u001b[0;34m.\u001b[0m\u001b[0mstatus\u001b[0m\u001b[0;34m\u001b[0m\u001b[0;34m\u001b[0m\u001b[0m\n\u001b[1;32m     16\u001b[0m         \u001b[0;32mif\u001b[0m \u001b[0mamount_of_money\u001b[0m \u001b[0;34m>\u001b[0m \u001b[0mself\u001b[0m\u001b[0;34m.\u001b[0m\u001b[0mstatus\u001b[0m\u001b[0;34m:\u001b[0m\u001b[0;34m\u001b[0m\u001b[0;34m\u001b[0m\u001b[0m\n\u001b[0;32m---> 17\u001b[0;31m             \u001b[0;32mraise\u001b[0m \u001b[0mValueError\u001b[0m\u001b[0;34m(\u001b[0m\u001b[0;34m\"Not enough money on account\"\u001b[0m\u001b[0;34m)\u001b[0m\u001b[0;34m\u001b[0m\u001b[0;34m\u001b[0m\u001b[0m\n\u001b[0m\u001b[1;32m     18\u001b[0m         \u001b[0mself\u001b[0m\u001b[0;34m.\u001b[0m\u001b[0mstatus\u001b[0m \u001b[0;34m-=\u001b[0m \u001b[0mamount_of_money\u001b[0m\u001b[0;34m\u001b[0m\u001b[0;34m\u001b[0m\u001b[0m\n\u001b[1;32m     19\u001b[0m         \u001b[0;32mreturn\u001b[0m \u001b[0mamount_of_money\u001b[0m\u001b[0;34m\u001b[0m\u001b[0;34m\u001b[0m\u001b[0m\n",
      "\u001b[0;31mValueError\u001b[0m: Not enough money on account"
     ]
    }
   ],
   "source": [
    "class MyAccount:\n",
    "    def set_account(self, first_name, second_name, status=0):\n",
    "        self.first_name = first_name\n",
    "        self.second_name = second_name\n",
    "        self.status = status\n",
    "\n",
    "    def my_open_account(self):\n",
    "        print(\"{} {} {}\".format(self.first_name, self.second_name, self.status))\n",
    "\n",
    "    def put_account(self, amount_of_money):\n",
    "        self.status += amount_of_money\n",
    "\n",
    "    def get_account(self, amount_of_money=None):\n",
    "        if amount_of_money == None:\n",
    "            amount_of_money = self.status\n",
    "        if amount_of_money > self.status:\n",
    "            raise ValueError(\"Not enough money on account\")\n",
    "        self.status -= amount_of_money\n",
    "        return amount_of_money\n",
    "\n",
    "    def send_deposit(self, amount_of_money, deposit_rate, deposit_time):\n",
    "        deposit_tax = 19.5\n",
    "        amount_of_money = self.get_account(amount_of_money)\n",
    "        return round(amount_of_money + (amount_of_money*(1 + deposit_rate/100)**deposit_time - amount_of_money)*(1 - deposit_tax/100),2)\n",
    "\n",
    "\n",
    "first_user = MyAccount()\n",
    "first_user.set_account(\"Carl\", \"Chaplin\")\n",
    "first_user.put_account(50000)\n",
    "\n",
    "second_user = MyAccount()\n",
    "second_user.set_account(\"Ann\", \"Drought\")\n",
    "second_user.put_account(75000)\n",
    "\n",
    "\n",
    "first_user.my_open_account()\n",
    "second_user.my_open_account()\n",
    "\n",
    "first_user.put_account(first_user.send_deposit(60000, 2.5, 10))\n",
    "second_user.put_account(second_user.send_deposit(75000, 0.5, 9))\n",
    "\n",
    "print(\"After deposit\")\n",
    "first_user.my_open_account()\n",
    "second_user.my_open_account()"
   ]
  },
  {
   "cell_type": "markdown",
   "metadata": {},
   "source": [
    "## Завдання 2"
   ]
  },
  {
   "cell_type": "markdown",
   "metadata": {},
   "source": [
    "У створеному класі ініціалізацію атрибутів класу за допомогою методу **set_account** замінити на конструктор класу"
   ]
  },
  {
   "cell_type": "code",
   "execution_count": 21,
   "metadata": {},
   "outputs": [
    {
     "name": "stdout",
     "output_type": "stream",
     "text": [
      "Carl Chaplin 50000\n",
      "Ann Drought 75000\n",
      "After deposit\n",
      "Carl Chaplin 61273.4\n",
      "Ann Drought 77771.85\n"
     ]
    }
   ],
   "source": [
    "class MyAccount:\n",
    "    def __init__(self, first_name, second_name, status=0):\n",
    "        self.first_name = first_name\n",
    "        self.second_name = second_name\n",
    "        self.status = status\n",
    "\n",
    "    def my_open_account(self):\n",
    "        print(\"{} {} {}\".format(self.first_name, self.second_name, self.status))\n",
    "\n",
    "    def put_account(self, amount_of_money):\n",
    "        self.status += amount_of_money\n",
    "\n",
    "    def get_account(self, amount_of_money=None):\n",
    "        if amount_of_money == None:\n",
    "            amount_of_money = self.status\n",
    "        if amount_of_money > self.status:\n",
    "            raise ValueError(\"Not enough money on account\")\n",
    "        self.status -= amount_of_money\n",
    "        return amount_of_money\n",
    "\n",
    "    def send_deposit(self, amount_of_money, deposit_rate, deposit_time):\n",
    "        deposit_tax = 19.5\n",
    "        return round(amount_of_money + (amount_of_money*(1 + deposit_rate/100)**deposit_time - amount_of_money)*(1 - deposit_tax/100),2)\n",
    "\n",
    "\n",
    "first_user = MyAccount(\"Carl\", \"Chaplin\")\n",
    "first_user.put_account(50000)\n",
    "\n",
    "second_user = MyAccount(\"Ann\", \"Drought\")\n",
    "second_user.put_account(75000)\n",
    "\n",
    "\n",
    "first_user.my_open_account()\n",
    "second_user.my_open_account()\n",
    "\n",
    "first_user.put_account(first_user.send_deposit(first_user.get_account(), 2.5, 10))\n",
    "second_user.put_account(second_user.send_deposit(second_user.get_account(), 0.5, 9))\n",
    "\n",
    "print(\"After deposit\")\n",
    "first_user.my_open_account()\n",
    "second_user.my_open_account()"
   ]
  },
  {
   "cell_type": "markdown",
   "metadata": {},
   "source": [
    "## Завдання 3"
   ]
  },
  {
   "cell_type": "markdown",
   "metadata": {},
   "source": [
    "За допомогою конструктору класу створити сховище бібліотеки (бібліотеки навчального закладу) сучасних книг з програмування з наступними атирибутами: назва книги, видавець, кількість сторінок книги, ціна книги, ISBN книги, кількість екземпляів книги, доступних у бібліотеці. \n",
    "\n",
    "\n",
    "Розробити метод **info_of_books** відображення інформації 5 створених екземплярів класу бібліотеки сучасних книг з програмування. (Для двох різних книг в екземплярах повинен бути один автор). "
   ]
  },
  {
   "cell_type": "code",
   "execution_count": 25,
   "metadata": {},
   "outputs": [
    {
     "name": "stdout",
     "output_type": "stream",
     "text": [
      "Name: \"Introdution to Algorithms\" Author:\"Thomas H. Cormen\"  Publisher:\"MIT Press\" Pages:1312 Price:20 ISBN:1 Copies:1 Avaliable:True\n",
      "Name: \"Algorithms Unlocked\" Author:\"Thomas H. Cormen\"  Publisher:\"MIT Press\" Pages:240 Price:25 ISBN:2 Copies:8 Avaliable:True\n",
      "Name: \"The Algorithm Design Manual\" Author:\"Steven Skiena\"  Publisher:\"Prentice Hall\" Pages:300 Price:60 ISBN:3 Copies:6 Avaliable:True\n",
      "Name: \"The C Programming Language. 2nd Edition\" Author:\"Dennis Ritchie\"  Publisher:\"Prentice Hall\" Pages:500 Price:45 ISBN:4 Copies:4 Avaliable:True\n",
      "Name: \"The Unix Programming Environment\" Author:\"Brian Kernighan\"  Publisher:\"Prentice Hall\" Pages:550 Price:60 ISBN:5 Copies:15 Avaliable:True\n",
      "Print authors who has two or more books in library\n",
      "['Thomas H. Cormen']\n"
     ]
    }
   ],
   "source": [
    "class Library:\n",
    "    def __init__(self, books = None):\n",
    "        self.books = dict()\n",
    "        if books != None:\n",
    "            for book in books:\n",
    "                self.books[book.ISBN] = book\n",
    "    \n",
    "    def add_book(self, book):\n",
    "        self.books[book.ISBN] = book\n",
    "\n",
    "    def info_of_books(self, ISBN=None):\n",
    "        if ISBN != None:\n",
    "            try:\n",
    "                print(self.books[ISBN])\n",
    "            except KeyError:\n",
    "                print(\"No book found\")\n",
    "        else:\n",
    "            for _, book in self.books.items():\n",
    "                print(book)\n",
    "                \n",
    "    def task1(self):\n",
    "        double_author = dict()\n",
    "        for key in self.books.keys():\n",
    "            if self.books[key].author not in double_author.keys():\n",
    "                double_author[self.books[key].author] = 1\n",
    "                continue\n",
    "            double_author[self.books[key].author] += 1\n",
    "        print([x for x in double_author.keys() if double_author[x] > 1])\n",
    "\n",
    "class Book:\n",
    "    def __init__(self, book_name, author, publisher, pages, price, ISBN, copies, avaliable):\n",
    "        self.book_name = book_name\n",
    "        self.author = author\n",
    "        self.publisher = publisher\n",
    "        self.pages = pages\n",
    "        self.price = price \n",
    "        self.ISBN = ISBN\n",
    "        self.copies = copies\n",
    "        self.avaliable = avaliable\n",
    "\n",
    "    def __str__(self):\n",
    "        return \"Name: \\\"{}\\\" Author:\\\"{}\\\"  Publisher:\\\"{}\\\" Pages:{} Price:{} ISBN:{} Copies:{} Avaliable:{}\"\\\n",
    "    .format(self.book_name, self.author, self.publisher, self.pages, self.price, self.ISBN, self.copies, self.avaliable)\n",
    "\n",
    "    \n",
    "books = list()\n",
    "books.append(Book(\"Introdution to Algorithms\", \"Thomas H. Cormen\", \"MIT Press\", 1312, 20, 1, 1, True))\n",
    "books.append(Book(\"Algorithms Unlocked\", \"Thomas H. Cormen\", \"MIT Press\", 240, 25, 2, 8, True))\n",
    "books.append(Book(\"The Algorithm Design Manual\", \"Steven Skiena\", \"Prentice Hall\", 300, 60, 3, 6, True))\n",
    "books.append(Book(\"The C Programming Language. 2nd Edition\", \"Dennis Ritchie\", \"Prentice Hall\", 500, 45, 4, 4, True))\n",
    "books.append(Book(\"The Unix Programming Environment\", \"Brian Kernighan\", \"Prentice Hall\", 550, 60, 5, 15, True))\n",
    "\n",
    "MITLibrary = Library(books)\n",
    "MITLibrary.info_of_books()\n",
    "print(\"Print authors who has two or more books in library\")\n",
    "MITLibrary.task1()"
   ]
  },
  {
   "cell_type": "markdown",
   "metadata": {},
   "source": [
    "## Завдання 4"
   ]
  },
  {
   "cell_type": "markdown",
   "metadata": {},
   "source": [
    "Для створеного класу бібліотеки навчального закладу, написати метод, який показує наявність книг у бібліотеці з результатами (\"є у бібліотеці\", \"немає у бібліотеці\"). \n",
    "\n",
    "Написати метод, яким зменшується кількість книг бібліотеки, які видані клієнту із бібліотеки. У випадку, коли немає наявних книг, про це необхідно надати повідомлення клієнту. "
   ]
  },
  {
   "cell_type": "code",
   "execution_count": 26,
   "metadata": {},
   "outputs": [
    {
     "name": "stdout",
     "output_type": "stream",
     "text": [
      "Name: \"Introdution to Algorithms\" Author:\"Thomas H. Cormen\"  Publisher:\"MIT Press\" Pages:1312 Price:20 ISBN:1 Copies:1 Avaliable:True\n",
      "є у бібліотеці\n",
      "книга видана\n",
      "є у бібліотеці\n",
      "екземпляри відстуні\n",
      "Name: \"Introdution to Algorithms\" Author:\"Thomas H. Cormen\"  Publisher:\"MIT Press\" Pages:1312 Price:20 ISBN:1 Copies:0 Avaliable:False\n"
     ]
    }
   ],
   "source": [
    "class Library:\n",
    "    def __init__(self, books = None):\n",
    "        self.books = dict()\n",
    "        if books != None:\n",
    "            for book in books:\n",
    "                self.books[book.ISBN] = book\n",
    "    \n",
    "    def add_book(self, book):\n",
    "        self.books[book.ISBN] = book\n",
    "\n",
    "    def info_of_books(self, ISBN=None):\n",
    "        if ISBN != None:\n",
    "            try:\n",
    "                print(self.books[ISBN])\n",
    "            except KeyError:\n",
    "                print(\"No book found\")\n",
    "        else:\n",
    "            for _, book in self.books.items():\n",
    "                print(book)\n",
    "    def task1(self):\n",
    "        double_author = dict()\n",
    "        for key in self.books.keys():\n",
    "            if self.books[key].author not in double_author.keys():\n",
    "                double_author[self.books[key].author] = 1\n",
    "                continue\n",
    "            double_author[self.books[key].author] += 1\n",
    "        print([x for x in double_author.keys() if double_author[x] > 1])\n",
    "                    \n",
    "    def is_avaliable(self, ISBN):\n",
    "        if ISBN in self.books.keys():\n",
    "            print(\"є у бібліотеці\")\n",
    "            return True\n",
    "        print(\"немає у бібліотеці\")\n",
    "        return False\n",
    "\n",
    "    def get_book(self, ISBN):\n",
    "        if self.is_avaliable(ISBN):\n",
    "            if self.books[ISBN].copies > 0:\n",
    "                print(\"книга видана\")\n",
    "                self.books[ISBN].copies -= 1\n",
    "                if self.books[ISBN].copies == 0:\n",
    "                    self.books[ISBN].avaliable = False\n",
    "            else:        \n",
    "                print(\"екземпляри відстуні\")\n",
    "\n",
    "\n",
    "class Book:\n",
    "    def __init__(self, book_name, author, publisher, pages, price, ISBN, copies, avaliable):\n",
    "        self.book_name = book_name\n",
    "        self.author = author\n",
    "        self.publisher = publisher\n",
    "        self.pages = pages\n",
    "        self.price = price \n",
    "        self.ISBN = ISBN\n",
    "        self.copies = copies\n",
    "        self.avaliable = avaliable\n",
    "\n",
    "    def __str__(self):\n",
    "        return \"Name: \\\"{}\\\" Author:\\\"{}\\\"  Publisher:\\\"{}\\\" Pages:{} Price:{} ISBN:{} Copies:{} Avaliable:{}\"\\\n",
    "    .format(self.book_name, self.author, self.publisher, self.pages, self.price, self.ISBN, self.copies, self.avaliable)\n",
    "\n",
    "    \n",
    "books = list()\n",
    "books.append(Book(\"Introdution to Algorithms\", \"Thomas H. Cormen\", \"MIT Press\", 1312, 20, 1, 1, True))\n",
    "books.append(Book(\"Algorithms Unlocked\", \"Thomas H. Cormen\", \"MIT Press\", 240, 25, 2, 8, True))\n",
    "books.append(Book(\"The Algorithm Design Manual\", \"Steven Skiena\", \"Prentice Hall\", 300, 60, 3, 6, True))\n",
    "books.append(Book(\"The C Programming Language. 2nd Edition\", \"Dennis Ritchie\", \"Prentice Hall\", 500, 45, 4, 4, True))\n",
    "books.append(Book(\"The Unix Programming Environment\", \"Brian Kernighan\", \"Prentice Hall\", 550, 60, 5, 15, True))\n",
    "\n",
    "MITLibrary = Library(books)    \n",
    "    \n",
    "MITLibrary.info_of_books(1)\n",
    "MITLibrary.get_book(1)\n",
    "MITLibrary.get_book(1)\n",
    "MITLibrary.info_of_books(1)"
   ]
  },
  {
   "cell_type": "markdown",
   "metadata": {},
   "source": [
    "## Завдання 5"
   ]
  },
  {
   "cell_type": "markdown",
   "metadata": {},
   "source": [
    "Створити список із виществорених 5 екземплярів книг бібліотеки (Завдання 3). Шляхом ітерації цього списку за допомогою **for** застосувати метод **info_of_books** для кожного елементу списку. \n",
    "\n",
    "Створити список, у якому знаходяться назви книг і видавці книг одного автора. "
   ]
  },
  {
   "cell_type": "code",
   "execution_count": 27,
   "metadata": {},
   "outputs": [
    {
     "name": "stdout",
     "output_type": "stream",
     "text": [
      "Name: \"Introdution to Algorithms\" Author:\"Thomas H. Cormen\"  Publisher:\"MIT Press\" Pages:1312 Price:20 ISBN:1 Copies:0 Avaliable:False\n",
      "Name: \"Algorithms Unlocked\" Author:\"Thomas H. Cormen\"  Publisher:\"MIT Press\" Pages:240 Price:25 ISBN:2 Copies:8 Avaliable:True\n",
      "Name: \"The Algorithm Design Manual\" Author:\"Steven Skiena\"  Publisher:\"Prentice Hall\" Pages:300 Price:60 ISBN:3 Copies:6 Avaliable:True\n",
      "Name: \"The C Programming Language. 2nd Edition\" Author:\"Dennis Ritchie\"  Publisher:\"Prentice Hall\" Pages:500 Price:45 ISBN:4 Copies:4 Avaliable:True\n",
      "Name: \"The Unix Programming Environment\" Author:\"Brian Kernighan\"  Publisher:\"Prentice Hall\" Pages:550 Price:60 ISBN:5 Copies:15 Avaliable:True\n"
     ]
    }
   ],
   "source": [
    "\n",
    "for book in books:\n",
    "    MITLibrary.info_of_books(book.ISBN)"
   ]
  },
  {
   "cell_type": "markdown",
   "metadata": {},
   "source": [
    "## Завдання 6"
   ]
  },
  {
   "cell_type": "markdown",
   "metadata": {},
   "source": [
    "У класі бібліотека книг створити властивість (@property), яка повиннна вказувати, що книга бібліотеки не може бути дешевше 20 грн. і більше ніж 250 грн.  "
   ]
  },
  {
   "cell_type": "code",
   "execution_count": 32,
   "metadata": {},
   "outputs": [
    {
     "ename": "ValueError",
     "evalue": "Prise must be between 20 and 250",
     "output_type": "error",
     "traceback": [
      "\u001b[0;31m---------------------------------------------------------------------------\u001b[0m",
      "\u001b[0;31mValueError\u001b[0m                                Traceback (most recent call last)",
      "\u001b[0;32m<ipython-input-32-8dd743b94b02>\u001b[0m in \u001b[0;36m<module>\u001b[0;34m\u001b[0m\n\u001b[1;32m     70\u001b[0m \u001b[0mbooks\u001b[0m\u001b[0;34m.\u001b[0m\u001b[0mappend\u001b[0m\u001b[0;34m(\u001b[0m\u001b[0mBook\u001b[0m\u001b[0;34m(\u001b[0m\u001b[0;34m\"The Unix Programming Environment\"\u001b[0m\u001b[0;34m,\u001b[0m \u001b[0;34m\"Brian Kernighan\"\u001b[0m\u001b[0;34m,\u001b[0m \u001b[0;34m\"Prentice Hall\"\u001b[0m\u001b[0;34m,\u001b[0m \u001b[0;36m550\u001b[0m\u001b[0;34m,\u001b[0m \u001b[0;36m6\u001b[0m\u001b[0;34m,\u001b[0m \u001b[0;36m5\u001b[0m\u001b[0;34m,\u001b[0m \u001b[0;36m15\u001b[0m\u001b[0;34m,\u001b[0m \u001b[0;32mTrue\u001b[0m\u001b[0;34m)\u001b[0m\u001b[0;34m)\u001b[0m\u001b[0;34m\u001b[0m\u001b[0;34m\u001b[0m\u001b[0m\n\u001b[1;32m     71\u001b[0m \u001b[0;34m\u001b[0m\u001b[0m\n\u001b[0;32m---> 72\u001b[0;31m \u001b[0mMITLibrary\u001b[0m \u001b[0;34m=\u001b[0m \u001b[0mLibrary\u001b[0m\u001b[0;34m(\u001b[0m\u001b[0mbooks\u001b[0m\u001b[0;34m)\u001b[0m\u001b[0;34m\u001b[0m\u001b[0;34m\u001b[0m\u001b[0m\n\u001b[0m",
      "\u001b[0;32m<ipython-input-32-8dd743b94b02>\u001b[0m in \u001b[0;36m__init__\u001b[0;34m(self, books)\u001b[0m\n\u001b[1;32m      4\u001b[0m         \u001b[0;32mif\u001b[0m \u001b[0mbooks\u001b[0m \u001b[0;34m!=\u001b[0m \u001b[0;32mNone\u001b[0m\u001b[0;34m:\u001b[0m\u001b[0;34m\u001b[0m\u001b[0;34m\u001b[0m\u001b[0m\n\u001b[1;32m      5\u001b[0m             \u001b[0;32mfor\u001b[0m \u001b[0mbook\u001b[0m \u001b[0;32min\u001b[0m \u001b[0mbooks\u001b[0m\u001b[0;34m:\u001b[0m\u001b[0;34m\u001b[0m\u001b[0;34m\u001b[0m\u001b[0m\n\u001b[0;32m----> 6\u001b[0;31m                 \u001b[0mself\u001b[0m\u001b[0;34m.\u001b[0m\u001b[0madd_book\u001b[0m\u001b[0;34m(\u001b[0m\u001b[0mbook\u001b[0m\u001b[0;34m)\u001b[0m\u001b[0;34m\u001b[0m\u001b[0;34m\u001b[0m\u001b[0m\n\u001b[0m\u001b[1;32m      7\u001b[0m \u001b[0;34m\u001b[0m\u001b[0m\n\u001b[1;32m      8\u001b[0m     \u001b[0;32mdef\u001b[0m \u001b[0madd_book\u001b[0m\u001b[0;34m(\u001b[0m\u001b[0mself\u001b[0m\u001b[0;34m,\u001b[0m \u001b[0mbook\u001b[0m\u001b[0;34m)\u001b[0m\u001b[0;34m:\u001b[0m\u001b[0;34m\u001b[0m\u001b[0;34m\u001b[0m\u001b[0m\n",
      "\u001b[0;32m<ipython-input-32-8dd743b94b02>\u001b[0m in \u001b[0;36madd_book\u001b[0;34m(self, book)\u001b[0m\n\u001b[1;32m      8\u001b[0m     \u001b[0;32mdef\u001b[0m \u001b[0madd_book\u001b[0m\u001b[0;34m(\u001b[0m\u001b[0mself\u001b[0m\u001b[0;34m,\u001b[0m \u001b[0mbook\u001b[0m\u001b[0;34m)\u001b[0m\u001b[0;34m:\u001b[0m\u001b[0;34m\u001b[0m\u001b[0;34m\u001b[0m\u001b[0m\n\u001b[1;32m      9\u001b[0m         \u001b[0;32mif\u001b[0m \u001b[0mbook\u001b[0m\u001b[0;34m.\u001b[0m\u001b[0mprice\u001b[0m \u001b[0;34m<\u001b[0m \u001b[0;36m20\u001b[0m \u001b[0;32mor\u001b[0m \u001b[0mbook\u001b[0m\u001b[0;34m.\u001b[0m\u001b[0mprice\u001b[0m \u001b[0;34m>\u001b[0m \u001b[0;36m250\u001b[0m\u001b[0;34m:\u001b[0m\u001b[0;34m\u001b[0m\u001b[0;34m\u001b[0m\u001b[0m\n\u001b[0;32m---> 10\u001b[0;31m             \u001b[0;32mraise\u001b[0m \u001b[0mValueError\u001b[0m\u001b[0;34m(\u001b[0m\u001b[0;34m\"Prise must be between 20 and 250\"\u001b[0m\u001b[0;34m)\u001b[0m\u001b[0;34m\u001b[0m\u001b[0;34m\u001b[0m\u001b[0m\n\u001b[0m\u001b[1;32m     11\u001b[0m         \u001b[0mself\u001b[0m\u001b[0;34m.\u001b[0m\u001b[0mbooks\u001b[0m\u001b[0;34m[\u001b[0m\u001b[0mbook\u001b[0m\u001b[0;34m.\u001b[0m\u001b[0mISBN\u001b[0m\u001b[0;34m]\u001b[0m \u001b[0;34m=\u001b[0m \u001b[0mbook\u001b[0m\u001b[0;34m\u001b[0m\u001b[0;34m\u001b[0m\u001b[0m\n\u001b[1;32m     12\u001b[0m \u001b[0;34m\u001b[0m\u001b[0m\n",
      "\u001b[0;31mValueError\u001b[0m: Prise must be between 20 and 250"
     ]
    }
   ],
   "source": [
    "class Library:\n",
    "    def __init__(self, books = None):\n",
    "        self.books = dict()\n",
    "        if books != None:\n",
    "            for book in books:\n",
    "                self.add_book(book)\n",
    "    \n",
    "    def add_book(self, book):\n",
    "        if book.price < 20 or book.price > 250:\n",
    "            raise ValueError(\"Prise must be between 20 and 250\")\n",
    "        self.books[book.ISBN] = book\n",
    "\n",
    "    def info_of_books(self, ISBN=None):\n",
    "        if ISBN != None:\n",
    "            try:\n",
    "                print(self.books[ISBN])\n",
    "            except KeyError:\n",
    "                print(\"No book found\")\n",
    "        else:\n",
    "            for _, book in self.books.items():\n",
    "                print(book)\n",
    "    def task1(self):\n",
    "        double_author = dict()\n",
    "        for key in self.books.keys():\n",
    "            if self.books[key].author not in double_author.keys():\n",
    "                double_author[self.books[key].author] = 1\n",
    "                continue\n",
    "            double_author[self.books[key].author] += 1\n",
    "        print([x for x in double_author.keys() if double_author[x] > 1])\n",
    "                    \n",
    "    def is_avaliable(self, ISBN):\n",
    "        if ISBN in self.books.keys():\n",
    "            print(\"є у бібліотеці\")\n",
    "            return True\n",
    "        print(\"немає у бібліотеці\")\n",
    "        return False\n",
    "\n",
    "    def get_book(self, ISBN):\n",
    "        if self.is_avaliable(ISBN):\n",
    "            if self.books[ISBN].copies > 0:\n",
    "                print(\"книга видана\")\n",
    "                self.books[ISBN].copies -= 1\n",
    "                if self.books[ISBN].copies == 0:\n",
    "                    self.books[ISBN].avaliable = False\n",
    "            else:        \n",
    "                print(\"екземпляри відстуні\")\n",
    "\n",
    "\n",
    "class Book:\n",
    "    def __init__(self, book_name, author, publisher, pages, price, ISBN, copies, avaliable):\n",
    "        self.book_name = book_name\n",
    "        self.author = author\n",
    "        self.publisher = publisher\n",
    "        self.pages = pages\n",
    "        self.price = price \n",
    "        self.ISBN = ISBN\n",
    "        self.copies = copies\n",
    "        self.avaliable = avaliable\n",
    "\n",
    "    def __str__(self):\n",
    "        return \"Name: \\\"{}\\\" Author:\\\"{}\\\"  Publisher:\\\"{}\\\" Pages:{} Price:{} ISBN:{} Copies:{} Avaliable:{}\"\\\n",
    "    .format(self.book_name, self.author, self.publisher, self.pages, self.price, self.ISBN, self.copies, self.avaliable)\n",
    "\n",
    "    \n",
    "books = list()\n",
    "books.append(Book(\"Introdution to Algorithms\", \"Thomas H. Cormen\", \"MIT Press\", 1312, 20, 1, 1, True))\n",
    "books.append(Book(\"Algorithms Unlocked\", \"Thomas H. Cormen\", \"MIT Press\", 240, 25, 2, 8, True))\n",
    "books.append(Book(\"The Algorithm Design Manual\", \"Steven Skiena\", \"Prentice Hall\", 300, 60, 3, 6, True))\n",
    "books.append(Book(\"The C Programming Language. 2nd Edition\", \"Dennis Ritchie\", \"Prentice Hall\", 500, 45, 4, 4, True))\n",
    "books.append(Book(\"The Unix Programming Environment\", \"Brian Kernighan\", \"Prentice Hall\", 550, 6, 5, 15, True))\n",
    "\n",
    "MITLibrary = Library(books)  "
   ]
  },
  {
   "cell_type": "markdown",
   "metadata": {},
   "source": [
    "## Завдання 7"
   ]
  },
  {
   "cell_type": "markdown",
   "metadata": {},
   "source": [
    "За допомогою конструктору класу, створити клас перетворення дробу **SetConverter**, який має дві змінні set_numerator (чисельник дробу) і  set_denominator (знаменник дробу). Значення знаменника дробу (set_denominator) за замовчуванням повинно дорівнювати 1.\n",
    "\n",
    "Напишить метод (**print_converter**), який друкує: \"чисельник:\" 8 \"знаменник:\" 9 (8/9)\n",
    "\n",
    "У конструкторі класу передбачити заміну негативних чисельника і знаменника з винесенням знаку мінус перед дробом.\n",
    "- створити екземпляр класу **example1** за входними даними: \"чисельник:\" 8 \"знаменник:\"  9, результат: -\"чисельник:\" 8 \"знаменник:\"  9 або (8/9)\n",
    "- створити екземпляр класу **example2** за входними даними: \"чисельник:\" -8 \"знаменник:\"  9, результат: -\"чисельник:\" 8 \"знаменник:\"  9 або (-8/9)\n",
    "- створити екземпляр класу **example3** за входними даними: \"чисельник:\"  8 \"знаменник:\" -9, результат: -\"чисельник:\" 8 \"знаменник:\"  9 або (-8/9)\n",
    "- створити екземпляр класу **example4** за входними даними: \"чисельник:\" -8 \"знаменник:\" -9, результат: \"чисельник:\" 8 \"знаменник:\"  9 або  (8/9)\n",
    "\n",
    "Результат: \n",
    "\n",
    "8/9\n",
    "\n",
    "-8/9\n",
    "\n",
    "-8/9\n",
    "\n",
    "8/9"
   ]
  },
  {
   "cell_type": "code",
   "execution_count": 13,
   "metadata": {},
   "outputs": [
    {
     "name": "stdout",
     "output_type": "stream",
     "text": [
      "\"чисельник 2\"\"знаменник 9\" (2/9)\n",
      "\"чисельник -2\"\"знаменник 9\" (-2/9)\n",
      "\"чисельник -2\"\"знаменник 9\" (-2/9)\n",
      "\"чисельник 2\"\"знаменник 9\" (2/9)\n"
     ]
    }
   ],
   "source": [
    "class SetConverter:\n",
    "    def __init__(self, numerator, denominator=1):\n",
    "        if denominator < 0:\n",
    "            denominator = abs(denominator)\n",
    "            numerator *= -1\n",
    "        self.numerator = numerator\n",
    "        self.denominator = denominator\n",
    "    \n",
    "    def print_converter(self):\n",
    "        print(\"\\\"чисельник {}\\\"\\\"знаменник {}\\\" ({}/{})\".format(self.numerator, self.denominator, self.numerator, self.denominator))\n",
    "\n",
    "ex1 = SetConverter(2, 9)\n",
    "ex1.print_converter()\n",
    "ex2 = SetConverter(-2, 9)\n",
    "ex2.print_converter()\n",
    "ex3 = SetConverter(2, -9)\n",
    "ex3.print_converter()\n",
    "ex4 = SetConverter(-2, -9)\n",
    "ex4.print_converter()"
   ]
  },
  {
   "cell_type": "markdown",
   "metadata": {},
   "source": [
    "## Завдання 8"
   ]
  },
  {
   "cell_type": "markdown",
   "metadata": {},
   "source": [
    "Визначте методи: додавання - (**addition**), віднімання - (**subtraction**), множення -(**multiplication**), ділення - (**division**) для екземплярів класів, що створюються за допомогою класу **SetConverter** завдання 7. \n",
    "\n",
    "Привести по два приклади застосування цих методів для обраних вхідних даних. \n",
    "\n",
    "Для кожного прикладу двох вхідних даних видати результат за допомогою методу **print_converter**. \n",
    "\n",
    "Провести інтерпретацію. "
   ]
  },
  {
   "cell_type": "code",
   "execution_count": 17,
   "metadata": {},
   "outputs": [
    {
     "name": "stdout",
     "output_type": "stream",
     "text": [
      "\"чисельник 8\"\"знаменник 9\" (8/9)\n",
      "\"чисельник -8\"\"знаменник 9\" (-8/9)\n",
      "\"чисельник -8\"\"знаменник 9\" (-8/9)\n",
      "\"чисельник 8\"\"знаменник 9\" (8/9)\n",
      "\"чисельник 0\"\"знаменник 9\" (0/9)\n",
      "\"чисельник 16\"\"знаменник 9\" (16/9)\n",
      "\"чисельник -64\"\"знаменник 81\" (-64/81)\n",
      "\"чисельник -72\"\"знаменник 72\" (-72/72)\n"
     ]
    }
   ],
   "source": [
    "class SetConverter:\n",
    "    def __init__(self, numerator, denominator=1):\n",
    "        if denominator < 0:\n",
    "            denominator = abs(denominator)\n",
    "            numerator *= -1\n",
    "        self.numerator = numerator\n",
    "        self.denominator = denominator\n",
    "    \n",
    "    def print_converter(self):\n",
    "        print(\"\\\"чисельник {}\\\"\\\"знаменник {}\\\" ({}/{})\".format(self.numerator, self.denominator, self.numerator, self.denominator))\n",
    "\n",
    "    def __add__(self, other):\n",
    "        lcm = self.get_lcm(self.denominator, other.denominator)\n",
    "        numerator = (lcm//self.denominator) * self.numerator + (lcm//other.denominator) * other.numerator\n",
    "        denominator = lcm\n",
    "        return SetConverter(numerator, denominator)\n",
    "\n",
    "    def __sub__(self, other):\n",
    "        lcm = self.get_lcm(self.denominator, other.denominator)\n",
    "        numerator = (lcm//self.denominator) * self.numerator - (lcm//other.denominator) * other.numerator\n",
    "        denominator = lcm\n",
    "        return SetConverter(numerator, denominator)\n",
    "\n",
    "    def __mul__(self, other):\n",
    "        return SetConverter(self.numerator * other.numerator, self.denominator * other.denominator)\n",
    "\n",
    "    def __truediv__(self, other):\n",
    "        return SetConverter(self.numerator * other.denominator, self.denominator * other.numerator)\n",
    "\n",
    "    def get_lcm(self, x, y):\n",
    "        if x > y:\n",
    "            greater = x\n",
    "        else:\n",
    "            greater = y\n",
    "\n",
    "        while(True):\n",
    "            if((greater % x == 0) and (greater % y == 0)):\n",
    "                lcm = greater\n",
    "                break\n",
    "            greater += 1\n",
    "\n",
    "        return lcm\n",
    "\n",
    "\n",
    "    \n",
    "\n",
    "ex1 = SetConverter(8, 9)\n",
    "ex1.print_converter()\n",
    "ex2 = SetConverter(-8, 9)\n",
    "ex2.print_converter()\n",
    "ex3 = SetConverter(8, -9)\n",
    "ex3.print_converter()\n",
    "ex4 = SetConverter(-8, -9)\n",
    "ex4.print_converter()\n",
    "\n",
    "ex5 = ex1 + ex2\n",
    "\n",
    "ex5.print_converter()\n",
    "\n",
    "ex6 = ex4 - ex3\n",
    "ex6.print_converter()\n",
    "\n",
    "ex7 = ex4 * ex3\n",
    "ex7.print_converter()\n",
    "\n",
    "ex8 = ex4 / ex3\n",
    "ex8.print_converter()"
   ]
  },
  {
   "cell_type": "markdown",
   "metadata": {},
   "source": [
    "## Завдання 9"
   ]
  },
  {
   "cell_type": "markdown",
   "metadata": {},
   "source": [
    "Для наступного класу **Auto** створіть властивість (@property) лише для надання ціни продажу автомобіля **customer_price** на первинному ринку, що  обчислюється шляхом врахування знижки **discount** відносно поточної ринкової ціни **current_price**. Знижка **discount** надається у відсотках. \n",
    "\n",
    "\n",
    "class Auto():\n",
    "\n",
    "    def __init__(self, brand, current_price, discount):\n",
    "        self.brand = brand\n",
    "        self.current_price = current_price\n",
    "        self.discount = discount\n",
    "    \n",
    "Для створення екземлярів класу **Auto** використати наступні вхідні дані.     \n",
    "    \n",
    "- example1 = Auto('ЗАЗ', 7000, 10)\n",
    "- example2 = Auto('Мерседес', 100000, 5)\n",
    "- example3 = Auto('БМВ', 110000, 5)\n",
    "- example4 = Auto('Ауді', 120000, 3)"
   ]
  },
  {
   "cell_type": "code",
   "execution_count": 21,
   "metadata": {},
   "outputs": [
    {
     "name": "stdout",
     "output_type": "stream",
     "text": [
      "6300.0\n",
      "95000.0\n",
      "104500.0\n",
      "116400.0\n"
     ]
    }
   ],
   "source": [
    "class Auto():\n",
    "    def __init__(self, brand, current_price, discount):\n",
    "        self.brand = brand\n",
    "        self.current_price = current_price\n",
    "        self.discount = discount\n",
    "        \n",
    "    def customer_price(self):\n",
    "        print(self.current_price * (1 - self.discount/100))\n",
    "        \n",
    "example1 = Auto('ЗАЗ', 7000, 10)\n",
    "example1.customer_price()\n",
    "example2 = Auto('Мерседес', 100000, 5)\n",
    "example2.customer_price()\n",
    "example3 = Auto('БМВ', 110000, 5)\n",
    "example3.customer_price()\n",
    "example4 = Auto('Ауді', 120000, 3)\n",
    "example4.customer_price()"
   ]
  },
  {
   "cell_type": "markdown",
   "metadata": {},
   "source": [
    "## Завдання 10"
   ]
  },
  {
   "cell_type": "markdown",
   "metadata": {},
   "source": [
    "Припустимо, що власник придбав зі знижкою вказані автомобілі завдання 9 на первинному ринку. Після року експлуатації всіх чотирьох автомобілів, власник вирішив їх продати на вторинному ринку з додатковою знижкою 0%, 2%, 3% 4% для кожного автомобіля відповідно. Необхідно застосувати знижку **secondary_market_discount**, як властивість для продажу кожного автомобіля на вторинному ринку, за умови, що його ціна більше 10000. "
   ]
  },
  {
   "cell_type": "code",
   "execution_count": 26,
   "metadata": {},
   "outputs": [
    {
     "name": "stdout",
     "output_type": "stream",
     "text": [
      "6300.0\n",
      "95000.0\n",
      "104500.0\n",
      "116400.0\n",
      "Second discount isn't avaliable\n",
      "93100.0\n",
      "101365.0\n",
      "111744.0\n"
     ]
    }
   ],
   "source": [
    "class Auto():\n",
    "    def __init__(self, brand, current_price, discount):\n",
    "        self.brand = brand\n",
    "        self.current_price = current_price\n",
    "        self.discount = discount\n",
    "        \n",
    "    def customer_price(self):\n",
    "        self.current_price = self.current_price * (1 - self.discount/100)\n",
    "        print(self.current_price)\n",
    "        \n",
    "    def secondary_market_discount(self, second_discount):\n",
    "        if self.current_price > 10000:\n",
    "            self.current_price = self.current_price * (1 - second_discount/100)\n",
    "            print(self.current_price)\n",
    "        else:\n",
    "            print(\"Second discount isn't avaliable\")\n",
    "        \n",
    "        \n",
    "example1 = Auto('ЗАЗ', 7000, 10)\n",
    "example1.customer_price()\n",
    "example2 = Auto('Мерседес', 100000, 5)\n",
    "example2.customer_price()\n",
    "example3 = Auto('БМВ', 110000, 5)\n",
    "example3.customer_price()\n",
    "example4 = Auto('Ауді', 120000, 3)\n",
    "example4.customer_price()\n",
    "\n",
    "example1.secondary_market_discount(0)\n",
    "example2.secondary_market_discount(2)\n",
    "example3.secondary_market_discount(3)\n",
    "example4.secondary_market_discount(4)"
   ]
  },
  {
   "cell_type": "code",
   "execution_count": null,
   "metadata": {},
   "outputs": [],
   "source": []
  }
 ],
 "metadata": {
  "kernelspec": {
   "display_name": "conda_python3",
   "language": "python",
   "name": "conda_python3"
  },
  "language_info": {
   "codemirror_mode": {
    "name": "ipython",
    "version": 3
   },
   "file_extension": ".py",
   "mimetype": "text/x-python",
   "name": "python",
   "nbconvert_exporter": "python",
   "pygments_lexer": "ipython3",
   "version": "3.6.10"
  }
 },
 "nbformat": 4,
 "nbformat_minor": 4
}
