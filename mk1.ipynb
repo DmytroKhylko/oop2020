{
 "cells": [
  {
   "cell_type": "markdown",
   "metadata": {},
   "source": [
    "МК 1. Тиждень 15.03.2021 - захист"
   ]
  },
  {
   "cell_type": "markdown",
   "metadata": {},
   "source": [
    "## Завдання 1"
   ]
  },
  {
   "cell_type": "markdown",
   "metadata": {},
   "source": [
    "Створити власний банківський акаунт **MyAccount**, що повинен мати п'ять методів:  \n",
    "- ініціалізації атрибутів класу **set_account**, \n",
    "- відображення атрибутів класу **my_open_account**, \n",
    "- внесення грошей на власний банківський рахунок **put_account**\n",
    "- зняття грошей з власного банкіського акаунту  **get_account** , \n",
    "- переведення грошей з власного банківського рахунку під визначений депозитний відсоток, діючий станом на момент виконання модульного завдання -  **send_deposit** \n",
    "\n",
    "При ініціалізації атрибутів класу створити три атрибути: ім'я - **first_name**,  призвище - **second_name** власника банківського рахунку та статус банківського рахунку - **status**. Дефолтне значення власного банківського рахунку (**status**) повинно бути нульовим. \n",
    "При наданні публічної інформації про власний банківський рахунок відображати повну інформацію про власника банківського рахунку і статус банківського рахунку. \n",
    "\n",
    "Методи, які забезпечують внесення грошей на банківський рахунок, зняття грошей з банківського рахункуі, повинні мати додатковий параметр - кількість грошей - **amount_of_money** \n",
    "\n",
    "Метод переведення грошей на депозит повинен мати додаткові параметри: кількість грошей - **amount_of_money**, депозитна відсоткова ставка - **deposit_rate**, строк депозиту - **deposit_time**\n",
    "\n",
    "Створити два банківських рахунки для двох клієнтів. \n",
    "- Перевести на банківські рахунки двох клієнтів різні суми грошей. \n",
    "- Представити статус кожного із банківських акаунтів обох клієнтів. \n",
    "- На першому банківському рахунку відкрити депозит на 2,5 роки\n",
    "- На  другому банківському рахунку відкрити депозит на півроку \n",
    "- Представити статус кожного із банківських акаунтів обох клієнтів після закінчення депозитів. \n",
    "\n",
    "Для обчислення вартості депозиту використовувати діючу комерційну відсоткову депозитну ставку і чинні податки з депозитного доходу"
   ]
  },
  {
   "cell_type": "code",
   "execution_count": 1,
   "metadata": {},
   "outputs": [
    {
     "name": "stdout",
     "output_type": "stream",
     "text": [
      "Carl Chaplin 50000\n",
      "Ann Drought 75000\n",
      "After deposit\n",
      "Carl Chaplin 61273.4\n",
      "Ann Drought 77771.85\n"
     ]
    }
   ],
   "source": [
    "class MyAccount:\n",
    "    def set_account(self, first_name, second_name, status=0):\n",
    "        self.first_name = first_name\n",
    "        self.second_name = second_name\n",
    "        self.status = status\n",
    "\n",
    "    def my_open_account(self):\n",
    "        print(\"{} {} {}\".format(self.first_name, self.second_name, self.status))\n",
    "\n",
    "    def put_account(self, amount_of_money):\n",
    "        self.status += amount_of_money\n",
    "\n",
    "    def get_account(self, amount_of_money=None):\n",
    "        if amount_of_money == None:\n",
    "            amount_of_money = self.status\n",
    "        if amount_of_money > self.status:\n",
    "            raise ValueError(\"Not enough money on account\")\n",
    "        self.status -= amount_of_money\n",
    "        return amount_of_money\n",
    "\n",
    "    def send_deposit(self, amount_of_money, deposit_rate, deposit_time):\n",
    "        deposit_tax = 19.5\n",
    "        return round(amount_of_money + (amount_of_money*(1 + deposit_rate/100)**deposit_time - amount_of_money)*(1 - deposit_tax/100),2)\n",
    "\n",
    "\n",
    "first_user = MyAccount()\n",
    "first_user.set_account(\"Carl\", \"Chaplin\")\n",
    "first_user.put_account(50000)\n",
    "\n",
    "second_user = MyAccount()\n",
    "second_user.set_account(\"Ann\", \"Drought\")\n",
    "second_user.put_account(75000)\n",
    "\n",
    "\n",
    "first_user.my_open_account()\n",
    "second_user.my_open_account()\n",
    "\n",
    "first_user.put_account(first_user.send_deposit(first_user.get_account(), 2.5, 10))\n",
    "second_user.put_account(second_user.send_deposit(second_user.get_account(), 0.5, 9))\n",
    "\n",
    "print(\"After deposit\")\n",
    "first_user.my_open_account()\n",
    "second_user.my_open_account()"
   ]
  },
  {
   "cell_type": "markdown",
   "metadata": {},
   "source": [
    "## Завдання 2"
   ]
  },
  {
   "cell_type": "markdown",
   "metadata": {},
   "source": [
    "У створеному класі ініціалізацію атрибутів класу за допомогою методу **set_account** замінити на конструктор класу"
   ]
  },
  {
   "cell_type": "code",
   "execution_count": 2,
   "metadata": {},
   "outputs": [
    {
     "name": "stdout",
     "output_type": "stream",
     "text": [
      "Carl Chaplin 50000\n",
      "Ann Drought 75000\n",
      "After deposit\n",
      "Carl Chaplin 61273.4\n",
      "Ann Drought 77771.85\n"
     ]
    }
   ],
   "source": [
    "class MyAccount:\n",
    "    def __init__(self, first_name, second_name, status=0):\n",
    "        self.first_name = first_name\n",
    "        self.second_name = second_name\n",
    "        self.status = status\n",
    "\n",
    "    def my_open_account(self):\n",
    "        print(\"{} {} {}\".format(self.first_name, self.second_name, self.status))\n",
    "\n",
    "    def put_account(self, amount_of_money):\n",
    "        self.status += amount_of_money\n",
    "\n",
    "    def get_account(self, amount_of_money=None):\n",
    "        if amount_of_money == None:\n",
    "            amount_of_money = self.status\n",
    "        if amount_of_money > self.status:\n",
    "            raise ValueError(\"Not enough money on account\")\n",
    "        self.status -= amount_of_money\n",
    "        return amount_of_money\n",
    "\n",
    "    def send_deposit(self, amount_of_money, deposit_rate, deposit_time):\n",
    "        deposit_tax = 19.5\n",
    "        return round(amount_of_money + (amount_of_money*(1 + deposit_rate/100)**deposit_time - amount_of_money)*(1 - deposit_tax/100),2)\n",
    "\n",
    "\n",
    "first_user = MyAccount(\"Carl\", \"Chaplin\")\n",
    "first_user.put_account(50000)\n",
    "\n",
    "second_user = MyAccount(\"Ann\", \"Drought\")\n",
    "second_user.put_account(75000)\n",
    "\n",
    "\n",
    "first_user.my_open_account()\n",
    "second_user.my_open_account()\n",
    "\n",
    "first_user.put_account(first_user.send_deposit(first_user.get_account(), 2.5, 10))\n",
    "second_user.put_account(second_user.send_deposit(second_user.get_account(), 0.5, 9))\n",
    "\n",
    "print(\"After deposit\")\n",
    "first_user.my_open_account()\n",
    "second_user.my_open_account()"
   ]
  },
  {
   "cell_type": "markdown",
   "metadata": {},
   "source": [
    "## Завдання 3"
   ]
  },
  {
   "cell_type": "markdown",
   "metadata": {},
   "source": [
    "За допомогою конструктору класу створити сховище бібліотеки (бібліотеки навчального закладу) сучасних книг з програмування з наступними атирибутами: назва книги, видавець, кількість сторінок книги, ціна книги, ISBN книги, кількість екземпляів книги, доступних у бібліотеці. \n",
    "\n",
    "\n",
    "Розробити метод **info_of_books** відображення інформації 5 створених екземплярів класу бібліотеки сучасних книг з програмування. (Для двох різних книг в екземплярах повинен бути один автор). "
   ]
  },
  {
   "cell_type": "code",
   "execution_count": 10,
   "metadata": {},
   "outputs": [
    {
     "name": "stdout",
     "output_type": "stream",
     "text": [
      "Introdution to Algorithms Thomas H. Cormen MIT Press 1312 20 1 10 True\n"
     ]
    }
   ],
   "source": [
    "class Library:\n",
    "    def __init__(self, books = None):\n",
    "        self.books = list()\n",
    "        if books != None:\n",
    "            for book in books:\n",
    "                self.books.append(book)\n",
    "    \n",
    "    def add_book(self, book):\n",
    "        self.books.append(book)\n",
    "\n",
    "    def info_of_books(self, ISNB=None):\n",
    "        if ISNB != None:\n",
    "            for book in self.books:\n",
    "                if book.ISNB == ISNB:\n",
    "                    print(book)\n",
    "                    break\n",
    "        else:\n",
    "            for book in self.books:\n",
    "                print(book)\n",
    "\n",
    "class Book:\n",
    "    def __init__(self, book_name, author, publisher, pages, price, ISNB, copies, avaliable):\n",
    "        self.book_name = book_name\n",
    "        self.author = author\n",
    "        self.publisher = publisher\n",
    "        self.pages = pages\n",
    "        self.price = price \n",
    "        self.ISNB = ISNB\n",
    "        self.copies = copies\n",
    "        self.avaliable = avaliable\n",
    "\n",
    "    def __str__(self):\n",
    "        return \"{} {} {} {} {} {} {} {}\".format(self.book_name, self.author, self.publisher, self.pages, self.price, self.ISNB, self.copies, self.avaliable)\n",
    "\n",
    "books = list()\n",
    "books.append(Book(\"Introdution to Algorithms\", \"Thomas H. Cormen\", \"MIT Press\", 1312, 20, 1, 10, True))\n",
    "books.append(Book(\"Algorithms Unlocked\", \"Thomas H. Cormen\", \"MIT Press\", 240, 25, 2, 8, True))\n",
    "books.append(Book(\"The Algorithm Design Manual\", \"Steven Skiena\", \"Prentice Hall\", 300, 60, 3, 6, True))\n",
    "books.append(Book(\"The C Programming Language. 2nd Edition\", \"Dennis Ritchie\", \"Prentice Hall\", 500, 45, 4, 4, True))\n",
    "books.append(Book(\"The Unix Programming Environment\", \"Brian Kernighan\", \"Prentice Hall\", 550, 60, 5, 15, True))\n",
    "\n",
    "MITLibrary = Library(books)\n",
    "MITLibrary.info_of_books(1)"
   ]
  },
  {
   "cell_type": "markdown",
   "metadata": {},
   "source": [
    "## Завдання 4"
   ]
  },
  {
   "cell_type": "markdown",
   "metadata": {},
   "source": [
    "Для створеного класу бібліотеки навчального закладу, написати метод, який показує наявність книг у бібліотеці з результатами (\"є у бібліотеці\", \"немає у бібліотеці\"). \n",
    "\n",
    "Написати метод, яким зменшується кількість книг бібліотеки, які видані клієнту із бібліотеки. У випадку, коли немає наявних книг, про це необхідно надати повідомлення клієнту. "
   ]
  },
  {
   "cell_type": "code",
   "execution_count": 11,
   "metadata": {},
   "outputs": [],
   "source": [
    "class Library:\n",
    "    def __init__(self, books = None):\n",
    "        self.books = list()\n",
    "        if books != None:\n",
    "            for book in books:\n",
    "                self.books.append(book)\n",
    "    \n",
    "    def add_book(self, book):\n",
    "        self.books.append(book)\n",
    "\n",
    "    def info_of_books(self, ISNB=None):\n",
    "        if ISNB != None:\n",
    "            for book in self.books:\n",
    "                if book.ISNB == ISNB:\n",
    "                    print(book)\n",
    "                    break\n",
    "        else:\n",
    "            for book in self.books:\n",
    "                print(book)\n",
    "                    \n",
    "    def is_avaliable(self, ISNB):\n",
    "        for book in self.books:\n",
    "            if book.ISNB == ISNB and book.avaliable == True:\n",
    "                print(\"є у бібліотеці\")\n",
    "                return True\n",
    "        print(\"немає у бібліотеці\")\n",
    "        return False\n",
    "\n",
    "    def get_book(self, ISNB):\n",
    "        if self.is_avaliable(ISNB):\n",
    "            for book in self.books:\n",
    "                if book.ISNB == ISNB:\n",
    "                    if book.copies > 0:\n",
    "                        print(\"книга видана\")\n",
    "                        book.copies -= 1\n",
    "                        if book.copies == 0:\n",
    "                            book.avaliable = False\n",
    "                        break\n",
    "                    print(\"екземпляри відстуні\")\n",
    "                    break\n",
    "\n",
    "class Book:\n",
    "    def __init__(self, book_name, author, publisher, pages, price, ISNB, copies, avaliable):\n",
    "        self.book_name = book_name\n",
    "        self.author = author\n",
    "        self.publisher = publisher\n",
    "        self.pages = pages\n",
    "        self.price = price \n",
    "        self.ISNB = ISNB\n",
    "        self.copies = copies\n",
    "        self.avaliable = avaliable\n",
    "\n",
    "    def __str__(self):\n",
    "        return \"{} {} {} {} {} {} {} {}\".format(self.book_name, self.author, self.publisher, self.pages, self.price, self.ISNB, self.copies, self.avaliable) "
   ]
  },
  {
   "cell_type": "markdown",
   "metadata": {},
   "source": [
    "## Завдання 5"
   ]
  },
  {
   "cell_type": "markdown",
   "metadata": {},
   "source": [
    "Створити список із виществорених 5 екземплярів книг бібліотеки (Завдання 3). Шляхом ітерації цього списку за допомогою **for** застосувати метод **info_of_books** для кожного елементу списку. \n",
    "\n",
    "Створити список, у якому знаходяться назви книг і видавці книг одного автора. "
   ]
  },
  {
   "cell_type": "code",
   "execution_count": 12,
   "metadata": {},
   "outputs": [
    {
     "name": "stdout",
     "output_type": "stream",
     "text": [
      "Introdution to Algorithms Thomas H. Cormen MIT Press 1312 20 1 10 True\n",
      "Algorithms Unlocked Thomas H. Cormen MIT Press 240 15 2 8 True\n",
      "The Algorithm Design Manual Steven Skiena Prentice Hall 300 16 3 6 True\n",
      "The C Programming Language. 2nd Edition Dennis Ritchie Prentice Hall 500 45 4 4 True\n",
      "The Unix Programming Environment Brian Kernighan Prentice Hall 550 60 5 15 True\n"
     ]
    }
   ],
   "source": [
    "\n",
    "for book in books:\n",
    "    MITLibrary.info_of_books(book.ISNB)"
   ]
  },
  {
   "cell_type": "markdown",
   "metadata": {},
   "source": [
    "## Завдання 6"
   ]
  },
  {
   "cell_type": "markdown",
   "metadata": {},
   "source": [
    "У класі бібліотека книг створити властивість (@property), яка повиннна вказувати, що книга бібліотеки не може бути дешевше 20 грн. і більше ніж 250 грн.  "
   ]
  },
  {
   "cell_type": "markdown",
   "metadata": {},
   "source": [
    "## Завдання 7"
   ]
  },
  {
   "cell_type": "markdown",
   "metadata": {},
   "source": [
    "За допомогою конструктору класу, створити клас перетворення дробу **SetConverter**, який має дві змінні set_numerator (чисельник дробу) і  set_denominator (знаменник дробу). Значення знаменника дробу (set_denominator) за замовчуванням повинно дорівнювати 1.\n",
    "\n",
    "Напишить метод (**print_converter**), який друкує: \"чисельник:\" 8 \"знаменник:\" 9 (8/9)\n",
    "\n",
    "У конструкторі класу передбачити заміну негативних чисельника і знаменника з винесенням знаку мінус перед дробом.\n",
    "- створити екземпляр класу **example1** за входними даними: \"чисельник:\" 8 \"знаменник:\"  9, результат: -\"чисельник:\" 8 \"знаменник:\"  9 або (8/9)\n",
    "- створити екземпляр класу **example2** за входними даними: \"чисельник:\" -8 \"знаменник:\"  9, результат: -\"чисельник:\" 8 \"знаменник:\"  9 або (-8/9)\n",
    "- створити екземпляр класу **example3** за входними даними: \"чисельник:\"  8 \"знаменник:\" -9, результат: -\"чисельник:\" 8 \"знаменник:\"  9 або (-8/9)\n",
    "- створити екземпляр класу **example4** за входними даними: \"чисельник:\" -8 \"знаменник:\" -9, результат: \"чисельник:\" 8 \"знаменник:\"  9 або  (8/9)\n",
    "\n",
    "Результат: \n",
    "\n",
    "8/9\n",
    "\n",
    "-8/9\n",
    "\n",
    "-8/9\n",
    "\n",
    "8/9"
   ]
  },
  {
   "cell_type": "code",
   "execution_count": 13,
   "metadata": {},
   "outputs": [
    {
     "name": "stdout",
     "output_type": "stream",
     "text": [
      "\"чисельник 2\"\"знаменник 9\" (2/9)\n",
      "\"чисельник -2\"\"знаменник 9\" (-2/9)\n",
      "\"чисельник -2\"\"знаменник 9\" (-2/9)\n",
      "\"чисельник 2\"\"знаменник 9\" (2/9)\n"
     ]
    }
   ],
   "source": [
    "class SetConverter:\n",
    "    def __init__(self, numerator, denominator=1):\n",
    "        if denominator < 0:\n",
    "            denominator = abs(denominator)\n",
    "            numerator *= -1\n",
    "        self.numerator = numerator\n",
    "        self.denominator = denominator\n",
    "    \n",
    "    def print_converter(self):\n",
    "        print(\"\\\"чисельник {}\\\"\\\"знаменник {}\\\" ({}/{})\".format(self.numerator, self.denominator, self.numerator, self.denominator))\n",
    "\n",
    "ex1 = SetConverter(2, 9)\n",
    "ex1.print_converter()\n",
    "ex2 = SetConverter(-2, 9)\n",
    "ex2.print_converter()\n",
    "ex3 = SetConverter(2, -9)\n",
    "ex3.print_converter()\n",
    "ex4 = SetConverter(-2, -9)\n",
    "ex4.print_converter()"
   ]
  },
  {
   "cell_type": "markdown",
   "metadata": {},
   "source": [
    "## Завдання 8"
   ]
  },
  {
   "cell_type": "markdown",
   "metadata": {},
   "source": [
    "Визначте методи: додавання - (**addition**), віднімання - (**subtraction**), множення -(**multiplication**), ділення - (**division**) для екземплярів класів, що створюються за допомогою класу **SetConverter** завдання 7. \n",
    "\n",
    "Привести по два приклади застосування цих методів для обраних вхідних даних. \n",
    "\n",
    "Для кожного прикладу двох вхідних даних видати результат за допомогою методу **print_converter**. \n",
    "\n",
    "Провести інтерпретацію. "
   ]
  },
  {
   "cell_type": "code",
   "execution_count": 17,
   "metadata": {},
   "outputs": [
    {
     "name": "stdout",
     "output_type": "stream",
     "text": [
      "\"чисельник 8\"\"знаменник 9\" (8/9)\n",
      "\"чисельник -8\"\"знаменник 9\" (-8/9)\n",
      "\"чисельник -8\"\"знаменник 9\" (-8/9)\n",
      "\"чисельник 8\"\"знаменник 9\" (8/9)\n",
      "\"чисельник 0\"\"знаменник 9\" (0/9)\n",
      "\"чисельник 16\"\"знаменник 9\" (16/9)\n",
      "\"чисельник -64\"\"знаменник 81\" (-64/81)\n",
      "\"чисельник -72\"\"знаменник 72\" (-72/72)\n"
     ]
    }
   ],
   "source": [
    "class SetConverter:\n",
    "    def __init__(self, numerator, denominator=1):\n",
    "        if denominator < 0:\n",
    "            denominator = abs(denominator)\n",
    "            numerator *= -1\n",
    "        self.numerator = numerator\n",
    "        self.denominator = denominator\n",
    "    \n",
    "    def print_converter(self):\n",
    "        print(\"\\\"чисельник {}\\\"\\\"знаменник {}\\\" ({}/{})\".format(self.numerator, self.denominator, self.numerator, self.denominator))\n",
    "\n",
    "    def __add__(self, other):\n",
    "        lcm = self.get_lcm(self.denominator, other.denominator)\n",
    "        numerator = (lcm//self.denominator) * self.numerator + (lcm//other.denominator) * other.numerator\n",
    "        denominator = lcm\n",
    "        return SetConverter(numerator, denominator)\n",
    "\n",
    "    def __sub__(self, other):\n",
    "        lcm = self.get_lcm(self.denominator, other.denominator)\n",
    "        numerator = (lcm//self.denominator) * self.numerator - (lcm//other.denominator) * other.numerator\n",
    "        denominator = lcm\n",
    "        return SetConverter(numerator, denominator)\n",
    "\n",
    "    def __mul__(self, other):\n",
    "        return SetConverter(self.numerator * other.numerator, self.denominator * other.denominator)\n",
    "\n",
    "    def __truediv__(self, other):\n",
    "        return SetConverter(self.numerator * other.denominator, self.denominator * other.numerator)\n",
    "\n",
    "    def get_lcm(self, x, y):\n",
    "        if x > y:\n",
    "            greater = x\n",
    "        else:\n",
    "            greater = y\n",
    "\n",
    "        while(True):\n",
    "            if((greater % x == 0) and (greater % y == 0)):\n",
    "                lcm = greater\n",
    "                break\n",
    "            greater += 1\n",
    "\n",
    "        return lcm\n",
    "\n",
    "\n",
    "    \n",
    "\n",
    "ex1 = SetConverter(8, 9)\n",
    "ex1.print_converter()\n",
    "ex2 = SetConverter(-8, 9)\n",
    "ex2.print_converter()\n",
    "ex3 = SetConverter(8, -9)\n",
    "ex3.print_converter()\n",
    "ex4 = SetConverter(-8, -9)\n",
    "ex4.print_converter()\n",
    "\n",
    "ex5 = ex1 + ex2\n",
    "\n",
    "ex5.print_converter()\n",
    "\n",
    "ex6 = ex4 - ex3\n",
    "ex6.print_converter()\n",
    "\n",
    "ex7 = ex4 * ex3\n",
    "ex7.print_converter()\n",
    "\n",
    "ex8 = ex4 / ex3\n",
    "ex8.print_converter()"
   ]
  },
  {
   "cell_type": "markdown",
   "metadata": {},
   "source": [
    "## Завдання 9"
   ]
  },
  {
   "cell_type": "markdown",
   "metadata": {},
   "source": [
    "Для наступного класу **Auto** створіть властивість (@property) лише для надання ціни продажу автомобіля **customer_price** на первинному ринку, що  обчислюється шляхом врахування знижки **discount** відносно поточної ринкової ціни **current_price**. Знижка **discount** надається у відсотках. \n",
    "\n",
    "\n",
    "class Auto():\n",
    "\n",
    "    def __init__(self, brand, current_price, discount):\n",
    "        self.brand = brand\n",
    "        self.current_price = current_price\n",
    "        self.discount = discount\n",
    "    \n",
    "Для створення екземлярів класу **Auto** використати наступні вхідні дані.     \n",
    "    \n",
    "- example1 = Auto('ЗАЗ', 7000, 10)\n",
    "- example2 = Auto('Мерседес', 100000, 5)\n",
    "- example3 = Auto('БМВ', 110000, 5)\n",
    "- example4 = Auto('Ауді', 120000, 3)"
   ]
  },
  {
   "cell_type": "markdown",
   "metadata": {},
   "source": [
    "## Завдання 10"
   ]
  },
  {
   "cell_type": "markdown",
   "metadata": {},
   "source": [
    "Припустимо, що власник придбав зі знижкою вказані автомобілі завдання 9 на первинному ринку. Після року експлуатації всіх чотирьох автомобілів, власник вирішив їх продати на вторинному ринку з додатковою знижкою 0%, 2%, 3% 4% для кожного автомобіля відповідно. Необхідно застосувати знижку **secondary_market_discount**, як властивість для продажу кожного автомобіля на вторинному ринку, за умови, що його ціна більше 10000. "
   ]
  }
 ],
 "metadata": {
  "kernelspec": {
   "display_name": "conda_python3",
   "language": "python",
   "name": "conda_python3"
  },
  "language_info": {
   "codemirror_mode": {
    "name": "ipython",
    "version": 3
   },
   "file_extension": ".py",
   "mimetype": "text/x-python",
   "name": "python",
   "nbconvert_exporter": "python",
   "pygments_lexer": "ipython3",
   "version": "3.6.10"
  }
 },
 "nbformat": 4,
 "nbformat_minor": 4
}
