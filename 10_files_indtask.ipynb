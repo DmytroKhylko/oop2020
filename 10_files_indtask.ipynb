{
 "cells": [
  {
   "cell_type": "markdown",
   "metadata": {},
   "source": [
    "## Індивідуальне завдання №1 \n",
    "\n",
    "З початку практичного заняття надіслати до чату **склад команди** і її **назву**\n",
    "\n",
    "Перед захистом індивідуальних завдань надати до чату посилання на свій github дисципліни ООП "
   ]
  },
  {
   "cell_type": "markdown",
   "metadata": {},
   "source": [
    "## Індивідуальне завдання №2"
   ]
  },
  {
   "cell_type": "markdown",
   "metadata": {},
   "source": [
    "1.**За допомогою конструктору класу**, створити клас (будь-якої предметної галузі) з 3-ма атибутами і 3-ма методами, що можуть змінювати їх значення. \n",
    "2. Створити 3 екземпляри класу. \n",
    "3. Роздрукувати властивості всіх екзмемплярів. \n",
    "4. У 1-му екземплярі змінити 1-е значення атирибуту базового класу \n",
    "5. У 2-му екземплярі змінити 2-е значення атирибуту базового класу\n",
    "6. У 3-му екземплярі змінити 3-е значення атирибуту базового класу\n",
    "7. Роздрукувати всі значення атирибутів всіх екземплярів \n",
    "8. Провести інтерпретацію. \n",
    "  "
   ]
  },
  {
   "cell_type": "code",
   "execution_count": 4,
   "metadata": {},
   "outputs": [
    {
     "name": "stdout",
     "output_type": "stream",
     "text": [
      "John 24 male\n",
      "Ann 23 female\n",
      "David 22 male\n",
      "\n",
      "Jonathan 24 male\n",
      "Ann 25 female\n",
      "David 22 Non-binary\n"
     ]
    }
   ],
   "source": [
    "class Persone:\n",
    "    def __init__(self, name, age, gender):\n",
    "        self._name = name\n",
    "        self._age = age\n",
    "        self._gender = gender\n",
    "\n",
    "    @property\n",
    "    def name(self):\n",
    "        return self._name\n",
    "\n",
    "    @property\n",
    "    def age(self):\n",
    "        return self._age\n",
    "\n",
    "    @property\n",
    "    def gender(self):\n",
    "        return self._gender\n",
    "\n",
    "    @name.setter\n",
    "    def name(self, name):\n",
    "        self._name = name\n",
    "\n",
    "    @age.setter\n",
    "    def age(self, age):\n",
    "        self._age = age\n",
    "\n",
    "    @gender.setter\n",
    "    def gender(self, gender):\n",
    "        self._gender = gender\n",
    "\n",
    "    def __str__(self):\n",
    "        return \"{} {} {}\".format(self._name, self._age, self._gender)\n",
    "\n",
    "\n",
    "\n",
    "john = Persone(\"John\", 24, \"male\")\n",
    "ann = Persone(\"Ann\", 23, \"female\")\n",
    "david = Persone(\"David\", 22, \"male\")\n",
    "\n",
    "print(john)\n",
    "print(ann)\n",
    "print(david)\n",
    "\n",
    "print()\n",
    "john.name = \"Jonathan\"\n",
    "ann.age = 25\n",
    "david.gender = \"Non-binary\"\n",
    "\n",
    "print(john)\n",
    "print(ann)\n",
    "print(david)\n",
    "\n"
   ]
  },
  {
   "cell_type": "markdown",
   "metadata": {},
   "source": [
    "## Індивідуальне завдання №3"
   ]
  },
  {
   "cell_type": "markdown",
   "metadata": {},
   "source": [
    "1.**Без конструктору класу**, створити клас (будь-якої предметної галузі) з 3-ма атибутами і 3-ма методами, що можуть змінювати їх значення. \n",
    "2. Створити 3 екземпляри класу. \n",
    "3. Роздрукувати властивості всіх екзмемплярів. \n",
    "4. У 1-му екземплярі змінити 1-е значення атирибуту базового класу \n",
    "5. У 2-му екземплярі змінити 2-е значення атирибуту базового класу\n",
    "6. У 3-му екземплярі змінити 3-е значення атирибуту базового класу\n",
    "7. Роздрукувати всі значення атирибутів всіх екземплярів \n",
    "8. Провести інтерпретацію. "
   ]
  },
  {
   "cell_type": "code",
   "execution_count": 6,
   "metadata": {},
   "outputs": [
    {
     "name": "stdout",
     "output_type": "stream",
     "text": [
      "John 24 male\n",
      "Ann 23 female\n",
      "David 22 male\n",
      "\n",
      "Jonathan 24 male\n",
      "Ann 25 female\n",
      "David 22 Non-binary\n"
     ]
    }
   ],
   "source": [
    "class Persone:\n",
    "    _name = \"None\"\n",
    "    _age = 0\n",
    "    _gender = \"Unknown\"\n",
    "\n",
    "\n",
    "    def get_name(self):\n",
    "        return self._name\n",
    "\n",
    "    def get_age(self):\n",
    "        return self._age\n",
    "\n",
    "    def get_gender(self):\n",
    "        return self._gender\n",
    "\n",
    "    def set_name(self, name):\n",
    "        self._name = name\n",
    "\n",
    "    def set_age(self, age):\n",
    "        self._age = age\n",
    "\n",
    "    def set_gender(self, gender):\n",
    "        self._gender = gender\n",
    "\n",
    "    def __str__(self):\n",
    "        return \"{} {} {}\".format(self._name, self._age, self._gender)\n",
    "\n",
    "\n",
    "\n",
    "john = Persone()\n",
    "john.set_name(\"John\")\n",
    "john.set_age(24)\n",
    "john.set_gender(\"male\")\n",
    "\n",
    "ann = Persone()\n",
    "ann.set_name(\"Ann\")\n",
    "ann.set_age(23)\n",
    "ann.set_gender(\"female\")\n",
    "\n",
    "david = Persone()\n",
    "david.set_name(\"David\")\n",
    "david.set_age(22)\n",
    "david.set_gender(\"male\")\n",
    "\n",
    "\n",
    "\n",
    "print(john)\n",
    "print(ann)\n",
    "print(david)\n",
    "print()\n",
    "\n",
    "john.set_name(\"Jonathan\")\n",
    "ann.set_age(25)\n",
    "david.set_gender(\"Non-binary\")\n",
    "\n",
    "print(john)\n",
    "print(ann)\n",
    "print(david)"
   ]
  },
  {
   "cell_type": "markdown",
   "metadata": {},
   "source": [
    "## Індивідуальне завдання №4"
   ]
  },
  {
   "cell_type": "markdown",
   "metadata": {},
   "source": [
    "1.Cтворити програму, яка визначає наявність товарів на складі, що характризуютьс наступними характристиками (атрибути класу): назва товару, тип товару, код товару, кількість. Зберігання товарів здійснюється у залежності від коду товару: 1 - промисловий склад, 2 - склад харчових продуктів, 3 - склад хімічних речовин, 4 - Оптовий склад, 5 - резервний склад      \n",
    "2. Представити постачання 5 різних товарів на склади (створити 5 екземплярів класу) різного типу.\n",
    "3. Застосувати метод зміни кількості товарів на складі\n",
    "4. Роздрукувати залишки на складі \n",
    "5. Провести інтерпретацію. "
   ]
  },
  {
   "cell_type": "code",
   "execution_count": 7,
   "metadata": {},
   "outputs": [
    {
     "name": "stdout",
     "output_type": "stream",
     "text": [
      "['Пінопластовий лист, промисловий товар, 1,']\n",
      "['Картопля, харчовий продукт, 2,']\n",
      "['Сірчана кислота, хіміча речовина, 3,']\n",
      "[]\n",
      "['Медична маска, медичний товар, 5,']\n"
     ]
    }
   ],
   "source": [
    "class Product:\n",
    "    def __init__(self, prod_name, prod_type, prod_code):\n",
    "        self.prod_name = prod_name\n",
    "        self.prod_type = prod_type\n",
    "        self.prod_code = prod_code\n",
    "    \n",
    "class Warehouse:\n",
    "    def __init__(self, wh_type):\n",
    "        self.wh_type = wh_type\n",
    "        self.prod_list = list()\n",
    "        self.prod_amount = 0\n",
    "\n",
    "    def add_product(self, product):\n",
    "        self.prod_list.append(product)\n",
    "        self.prod_amount += 1\n",
    "\n",
    "    def del_products(self, amount):\n",
    "        if amount > self.prod_amount:\n",
    "            raise ValueError(\"There aren't so many products\")\n",
    "\n",
    "        self.prod_list = self.prod_list[amount:]\n",
    "        self.prod_amount -= amount\n",
    "\n",
    "    def __len__(self):\n",
    "        return self.prod_amount\n",
    "\n",
    "    def __str__(self):\n",
    "        return str([\"{}, {}, {},\".format(x.prod_name, x.prod_type, x.prod_code) for x in self.prod_list])\n",
    "\n",
    "industrial_warehouse = Warehouse(\"Промисловий склад\")\n",
    "\n",
    "industrial_warehouse.add_product(Product(\"Металевий лист\", \"промисловий товар\", 1))\n",
    "industrial_warehouse.add_product(Product(\"Пінопластовий лист\", \"промисловий товар\", 1))\n",
    "\n",
    "##############\n",
    "foodstuff_warehouse = Warehouse(\"Склад харчових продуктів\")\n",
    "\n",
    "foodstuff_warehouse.add_product(Product(\"Картопля\", \"харчовий продукт\", 2))\n",
    "\n",
    "##############\n",
    "chemicals_warehouse = Warehouse(\"Склад хімічних речеовин\")\n",
    "\n",
    "chemicals_warehouse.add_product(Product(\"Сірчана кислота\", \"хіміча речовина\", 3))\n",
    "\n",
    "##############\n",
    "wholesale_warehouse = Warehouse(\"Оптовий склад\")\n",
    "\n",
    "wholesale_warehouse.add_product(Product(\"Паерові хустинки\", \"товар загального вжитку\", 4))\n",
    "\n",
    "##############\n",
    "reserve_warehouse = Warehouse(\"Резервний склад\")\n",
    "\n",
    "reserve_warehouse.add_product(Product(\"Медична маска\", \"медичний товар\", 5))\n",
    "\n",
    "\n",
    "industrial_warehouse.del_products(1)\n",
    "wholesale_warehouse.del_products(1)\n",
    "reserve_warehouse.del_products(0)\n",
    "\n",
    "print(industrial_warehouse)\n",
    "print(foodstuff_warehouse)\n",
    "print(chemicals_warehouse)\n",
    "print(wholesale_warehouse)\n",
    "print(reserve_warehouse)"
   ]
  },
  {
   "cell_type": "markdown",
   "metadata": {},
   "source": [
    "## Індивідуальне завдання №5\n",
    "\n",
    "Використовуючи композицію\n",
    "1. Модифікувати програму надану в лекці: \n",
    "        - створити клас фарбування підлоги (колір на вибір);\n",
    "        - створити клас фарбування стелі (білий колір), враховуючи квадратну люстру розміром 1м*1м, \n",
    "          яку не потрібно фарбувати;\n",
    "        - врахувати 2 дверей і 3 вікна;\n",
    "        - вивести площу фарбування: підлоги, стелі, стін \n",
    "2. Провести інтерпретацію"
   ]
  },
  {
   "cell_type": "code",
   "execution_count": 8,
   "metadata": {},
   "outputs": [
    {
     "name": "stdout",
     "output_type": "stream",
     "text": [
      "Square to paint is equal to 45.25 sq.m.\n"
     ]
    }
   ],
   "source": [
    "class Floor:\n",
    "    def __init__(self, x, y):\n",
    "        self._square = x * y\n",
    "    \n",
    "    @property\n",
    "    def square(self):\n",
    "        return self._square\n",
    "\n",
    "class Lamp:\n",
    "    def __init__(self):\n",
    "        self._square = 1\n",
    "\n",
    "class Win_Door:\n",
    "    def __init__(self,x,y):\n",
    "        self._square = x * y\n",
    "\n",
    "class Ceiling:\n",
    "    def __init__(self, x, y):\n",
    "        self._square = x * y - Lamp()._square\n",
    "\n",
    "\n",
    "\n",
    "class Walls:\n",
    "    def __init__(self, x, y, z, doors, windows, m = 1, n = 1):\n",
    "        self._square = 2 * (x + y) * z - m * doors._square - n * windows._square\n",
    "\n",
    "class Room:\n",
    "    def __init__(self, x, y ,z , doors, windows, m = 1, n = 1):\n",
    "        self._floor = Floor(x, y)\n",
    "        self._ceiling = Ceiling(x, y)\n",
    "        self._walls = Walls(x, y, z , doors, windows, m, n)\n",
    "        self._square = self._ceiling._square + self._floor._square + self._walls._square\n",
    "\n",
    "    def __str__(self):\n",
    "        return str(\"Square to paint is equal to {} sq.m.\".format(self._square))\n",
    "\n",
    "\n",
    "####   ROOM 3x4x2.5  ######\n",
    "\n",
    "room = Room(3, 4, 2.5, Win_Door(2, 1.5), Win_Door(1.5, 1.5), 2, 3)\n",
    "print(room)"
   ]
  },
  {
   "cell_type": "code",
   "execution_count": null,
   "metadata": {},
   "outputs": [],
   "source": []
  }
 ],
 "metadata": {
  "kernelspec": {
   "display_name": "conda_python3",
   "language": "python",
   "name": "conda_python3"
  },
  "language_info": {
   "codemirror_mode": {
    "name": "ipython",
    "version": 3
   },
   "file_extension": ".py",
   "mimetype": "text/x-python",
   "name": "python",
   "nbconvert_exporter": "python",
   "pygments_lexer": "ipython3",
   "version": "3.6.13"
  }
 },
 "nbformat": 4,
 "nbformat_minor": 4
}
